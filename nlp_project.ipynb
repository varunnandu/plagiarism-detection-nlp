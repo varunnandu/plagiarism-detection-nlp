{
 "cells": [
  {
   "cell_type": "code",
   "execution_count": 1,
   "metadata": {
    "collapsed": true
   },
   "outputs": [],
   "source": [
    "from __future__ import division\n",
    "from sklearn.cluster import KMeans\n",
    "from numbers import Number\n",
    "from pandas import DataFrame\n",
    "import sys, codecs, numpy"
   ]
  },
  {
   "cell_type": "code",
   "execution_count": 2,
   "metadata": {
    "collapsed": true
   },
   "outputs": [],
   "source": [
    "class autovivify_list(dict):\n",
    "  '''A pickleable version of collections.defaultdict'''\n",
    "  def __missing__(self, key):\n",
    "    '''Given a missing key, set initial value to an empty list'''\n",
    "    value = self[key] = []\n",
    "    return value\n",
    "\n",
    "  def __add__(self, x):\n",
    "    '''Override addition for numeric types when self is empty'''\n",
    "    if not self and isinstance(x, Number):\n",
    "      return x\n",
    "    raise ValueError\n",
    "\n",
    "  def __sub__(self, x):\n",
    "    '''Also provide subtraction method'''\n",
    "    if not self and isinstance(x, Number):\n",
    "      return -1 * x\n",
    "    raise ValueError"
   ]
  },
  {
   "cell_type": "code",
   "execution_count": 3,
   "metadata": {
    "collapsed": true
   },
   "outputs": [],
   "source": [
    "def build_word_vector_matrix(vector_file, n_words):\n",
    "  '''Return the vectors and labels for the first n_words in vector file'''\n",
    "  numpy_arrays = []\n",
    "  labels_array = []\n",
    "  with codecs.open(vector_file, 'r', 'utf-8') as f:\n",
    "    for c, r in enumerate(f):\n",
    "      sr = r.split()\n",
    "      labels_array.append(sr[0])\n",
    "      numpy_arrays.append( numpy.array([float(i) for i in sr[1:]]) )\n",
    "\n",
    "      if c == n_words:\n",
    "        return numpy.array( numpy_arrays ), labels_array\n",
    "\n",
    "  return numpy.array( numpy_arrays ), labels_array"
   ]
  },
  {
   "cell_type": "code",
   "execution_count": 4,
   "metadata": {
    "collapsed": true
   },
   "outputs": [],
   "source": [
    "def find_word_clusters(labels_array, cluster_labels):\n",
    "  '''Return the set of words in each cluster'''\n",
    "  cluster_to_words = autovivify_list()\n",
    "  for c, i in enumerate(cluster_labels):\n",
    "    cluster_to_words[ i ].append( labels_array[c] )\n",
    "  return cluster_to_words"
   ]
  },
  {
   "cell_type": "code",
   "execution_count": 7,
   "metadata": {},
   "outputs": [
    {
     "data": {
      "text/plain": [
       "KMeans(algorithm='auto', copy_x=True, init='k-means++', max_iter=300,\n",
       "    n_clusters=252, n_init=10, n_jobs=1, precompute_distances='auto',\n",
       "    random_state=None, tol=0.0001, verbose=0)"
      ]
     },
     "execution_count": 7,
     "metadata": {},
     "output_type": "execute_result"
    }
   ],
   "source": [
    "input_vector_file = '/Users/varunnandu/glove/vectors.txt' # Vector file input (e.g. glove.6B.300d.txt)\n",
    "n_words = int(1262) # Number of words to analyze \n",
    "reduction_factor = float(0.2) # Amount of dimension reduction {0,1}\n",
    "n_clusters = int( n_words * reduction_factor ) # Number of clusters to make\n",
    "df, labels_array = build_word_vector_matrix(input_vector_file, n_words)\n",
    "kmeans_model = KMeans(init='k-means++', n_clusters=n_clusters, n_init=10)\n",
    "kmeans_model.fit(df)\n"
   ]
  },
  {
   "cell_type": "code",
   "execution_count": 11,
   "metadata": {},
   "outputs": [],
   "source": [
    "cluster_labels  = kmeans_model.labels_\n",
    "cluster_inertia   = kmeans_model.inertia_\n",
    "cluster_to_words  = find_word_clusters(labels_array, cluster_labels)\n",
    "\n",
    "clusters = []\n",
    "for c in cluster_to_words:\n",
    "    clusters.append(cluster_to_words[c])"
   ]
  },
  {
   "cell_type": "code",
   "execution_count": 20,
   "metadata": {},
   "outputs": [
    {
     "name": "stdout",
     "output_type": "stream",
     "text": [
      "0      ['the', 'of', 'is', 'to', 'and', '05', 'in', 'that', 'be', 'as', 'it', 'by', 'are', 'for', 'can', 'this', 'or', 'probability', 'programming', 'used', 'an', 'vector', 'pagerank', 'on', 'from', 'classes', 'he', 'has', 'with', 'have', 'document', 'one', '06', 'inheritance', 'problems', 'optimal', 'each', 'probabilities', 'google', 'also', 'class', 'subproblems', 'number', 'terms', 'links', 'given', 'we', 'words', 'example', 'more', 'new', 'value', 'where', 'if', 'using', 'any', 'its', 'methods', 'solutions', 'dynamic', 'many', 'means', 'at', 'known', 'computer', 'objects', 'been', 'different', 'such', 'there', 'represented', 'same', 'marginal', 'because', 'program', 'substructure', 'derived', 'often', 'ways', 'based', 'certain', 'could', 'after', 'science']\n",
      "20      ['which', 'way', 'form']\n",
      "24      ['term', 'occurs']\n",
      "28      ['h0k', 'ubx', 'hhk', 'hij', 'hijses']\n",
      "30      ['all', 'common']\n",
      "32      ['theorem', 'bayes']\n",
      "35      ['page', 'other', 'pages', 'web']\n",
      "41      ['documents', 'vectors']\n",
      "44      ['information', 'retrieval']\n",
      "46      ['space', 'model']\n",
      "53      ['called', 'sometimes']\n",
      "57      ['not', 'they']\n",
      "58      ['these', 'inherit', 'both', 'attributes', 'subclasses']\n",
      "60      ['problem', 'find', 'solve']\n",
      "61      ['conditional', 'relates']\n",
      "63      ['between', 'query', 'original']\n",
      "66      ['may', 'observed', 'applied']\n",
      "72      ['events', 'two', 'random']\n",
      "75      ['object', 'oriented']\n",
      "76      ['about', 'specific', 'stored']\n",
      "77      ['algorithm', 'link', 'analysis']\n",
      "79      ['sub', 'into']\n",
      "84      ['method', 'solving']\n",
      "86      ['search', 'internet', 'engine']\n",
      "89      ['solution', 'need', 'you', 'overall', 'larger']\n",
      "90      ['was', 'first']\n",
      "91      ['8i', '8q', 'o8', '8h', '98', 'h8', '8d', '8g', 'f8', 'y8', 'q8', 'w8', 'z8', '7w', '48', '7p', '38', '7d', '8s', 'b9', '7y', 'v7', '7k', '7u', 'allows', 'every', 'relationship', '7t', '82', 'generally', 'ja', 'n9', 'see', 'zs', '6a', '7l', 'considered', 'factor', 'jj', 'vote', '8_', 'assumptions', 'zn', 'cx', 'df', 'formed', 'fu', 'jm', 'qd']\n",
      "95      ['then', 'would', 'calculated']\n",
      "96      ['8w', '8j', 'b8', 'c8', '8l', '8p', 'd8', 'r8', 't8', '8n', 'x8', 'k8', '7o', '87', '79', '84', '7v', '97', 'j8', '28', '78', '7q', '8r', '7f', '9s', '18', '7c', '7h', 'f7', 'g9', '7b', '7i', '86', 'collection', 'i7', 'main', '19', '7e', '7s', '7x', '83', '_8', '77', '7m', 'c7', 'key', 'z7', '6b', '6v', '72', '7_', 'b7', 'following', 'k7', '6e', '73', '76', '96', 'ae', 'dx', 'fs', 'idea', 'lg', 'md', 'memoization', 'rd', 'rj', '37', '4e', '5x', '67', '6i', '6l', '70', '93', 'ac', 'acts', 'bd', 'd7', 'evidence', 'fi', 'g6', 'ii', 'il', 'inherited', 'iv', 'j6', 'lt', 'remembered', 'un', 'wz', 'xl', 'xt']\n",
      "97      ['8x', '9k', 'weighting', 'x7', '95', 'numerical', '39', '7j', '75', 'sufficiently', 'circle', 'numeric', 'our', 'pre', 'website', 'yn', '1g', '60', 'affect', 'co', 'fd', 'gi', 'patented', 'qs', 'shape', 'storing', 'us', 'weight']\n",
      "98      ['code', 'set', 'advantage', 'complexity', 'hyperlinked', 'measuring', 'reducing', 'purpose', 'total', 'distinct', 'seed']\n",
      "99      ['up', 'time', 'when', 'computed', 'divided', 'data', 'determine', 'made', 'out', 'chosen', 'found', 'try']\n",
      "100      ['values', 'weights', 'developed']\n",
      "101      ['student', 'event', 'diagnosis', 'correct', 'proposed', 'formal']\n",
      "102      ['will', 'how', 'process', 'results', 'linked', 'rank', 'sites']\n",
      "103      ['8e', 'a8', 'm8', 'n8', 'v8', 'v9', 'w7', '7a', '7r', '58', '7z', '8c', '9r', 'e8', 'l9', 'y7', '7g', '9a', '09', '6m', 'r9', '08', '10', '90', 'a7', 'available', 'g7', 'h7', 'u7', 'z9', '59', '7n', '91', 'e7', 'even', 'include', 'n7', 'om', 'relevance', 'relevant', 'w9', 'basically', 'ht', 'kw', 'popular', 'qw', 'ra', 'research', 'ro', 'solves', 'ss', '17', '6r', '74', '_9', 'behaviours', 'bm', 'd6', 'da', 'dc', 'es', 'fj', 'fk', 'fv', 'gb', 'gr', 'h1', 'h6', 'hc', 'io', 'kf', 'km', 'ku', 'kx', 'language', 'make', 'measure', 'mt', 'og', 'pp', 'qf', 'qj', 'ri', 'together', 'type', 'ui', 'uq', 'vl', 'wa', 'ya']\n",
      "104      ['8v', '8z', '8b', 'l8', 'p8', '8m', 's8', 'i8', '8o', '8t', '88', '8a', '9g', '89', 'u8', '9i', '9b', 'c9', 'since', 'u9', 'q9', 'r7', '9o', 'p9', '68', '81', 'a9', 'describe', '85', 'e9', 'd9', 'f9', 'ir', 'l7', '9_', 'k9', 'm7', 'm9', 'q7', '69', 'a1', 'pr', 's9', 'uh', 'whilst', 'xp', 'bw', 'calculating', 'field', 'hg', 'ny', 'postgraduate', 'yz', 'z6', 'animals', 'ch', 'content', 'features', 'four', 'functions', 'further', 'get', 'just', 'jz', 'nodes', 'public', 'qz', 'recursively', 'surfer', 'without', 'yr', 'zp', '<unk>']\n",
      "105      ['being', 'models', 'element', 'identifiers', 'index', 'poorly', 'queries', 'systems', 'expressed', 'fleshy', 'populations', 'instances', 'long', 'proportions']\n",
      "106      ['no', 'particular', 'connection']\n",
      "108      ['word', 'describes', 'applications', 'recursive']\n",
      "109      ['fruit', 'apple', 'acceptable', 'abstraction']\n",
      "112      ['9j', '9e', '9t', '8k', '9m', 'g8', '9h', 'h9', 'o9', '9y', '000226815', '9q', '9u', 'x9', '9d', '29', '49', 'dp', 'y9', 'entities', 'i9', 'bayesians', 'modules', 'ff', 'foundations', 'processing', 'below', 'equation', 'mechanism', 'transport', 'wear', 'whole', 'angles', 'described', 'eh', 'pieces', 'superclasses']\n",
      "113      ['9x', '8y', '9n', '9p', '9f', '9l', '9v', '80', '99', '9z', 'j9', '9c', 't9', '92', 'orange', 'etc', 'down', 'top', 'control', 'de', 'schedule', 'finalized', 'shared', 'ba', 'context', 'conversely', 'involves', 'f1', 'nq', 'st', 'weightingthe']\n",
      "114      ['compute', 'posterior', 'calculate']\n",
      "115      ['however', 'distribution']\n",
      "116      ['so', 'assigns', 'say']\n",
      "118      ['most', 'use', '8f', '8u', 'structure', 'therefore', 'uses', 'name', 'kind', 'usually', 'system', 'useful', 'what', 'j7', 'second']\n",
      "119      ['importance', 'within', 'cosine', 'dimensionality']\n",
      "120      ['properties', 'beliefs', 'degrees', 'unique', 'types', 'behavior', 'uncertainty']\n",
      "121      ['but', 'does', 'do']\n",
      "122      ['theory', 'prior']\n",
      "125      ['some', 'keyword', 'formula', 'graph', 'might', 'equal', 'originally', 'save', 'appears', 'invented', 'cases']\n",
      "126      ['9w', 'naive', 'apples', 'hijubx', 'must', 'rq', 'f5', 'had', 'naturally', 'qx', 'economy', 'matches', 'precisely', 'rh', 'ru', '1953', 'entity', 'frequentists', 'qu', 'reach', 'refined', 'rz', 'sn']\n",
      "127      ['computing', 'f2', 'frequentist', 'take', 'f3', 'statistics', 'account', 'cognitive', 'f4', 'product', 'train', 'large', 'reciprocal', 'references', 'car', 'mango', 'quotations']\n",
      "129      ['another', 'their', 'little', 'frequencies', 'subsets', 'occurrence']\n",
      "130      ['best', 'needs', 'others', 'decisions']\n",
      "132      ['generalization', 'hierarchy', 'represent', 'relationships']\n",
      "133      ['non', 'zero', 'several', 'frequency']\n",
      "134      ['overlapping', 'exhibit']\n",
      "135      ['order', 'result', 'vocabulary', 'appear', 'lost', 'occurring']\n",
      "136      ['bayesian', 'depends', 'like', 'application', 'similarities', 'upon', 'scale', 'angle', 'specified', 'articles', 'givenis']\n",
      "137      ['existing', 'reuse', 'help']\n",
      "139      ['similar', 'share', 'lot', 'interfaces']\n",
      "141      ['already', 'defined']\n",
      "142      ['approach', 'subproblem', 'extend', 'needed', 're', 'intended', 'create', 'due', 'group', 'access', 'add', 'again', 'manipulation', 'said']\n",
      "145      ['important', 'sense']\n",
      "146      ['optimization', 'mathematical', 'thus', 'synonym']\n",
      "147      ['solved', 'variables', 'them', 'themselves', 'updated']\n",
      "149      ['instance', 'exhibition', 'observations', 'produced', 'container', 'technique']\n",
      "150      ['keywords', 'single', 'longer', 'phrases']\n",
      "151      ['000222005', '00028579', '000641574', '000782035', '00145284']\n",
      "152      ['000714138', '000679629', '00133258', '00139828']\n",
      "153      ['000837489', '00076664', '00078398', '00154063']\n",
      "154      ['00105573', '000218071', '000346468', '000722866', '00118384', '00122644', '98124e']\n",
      "155      ['00127245', '00027091', '00127034']\n",
      "156      ['ancestor', 'exposed', 'those', 'adding']\n",
      "157      ['false', 'negative']\n",
      "158      ['instead', 'mathematics']\n",
      "159      ['plan', 'action', 'finding']\n",
      "160      ['superclass', 'only', 'subclass']\n",
      "161      ['than', 'less', 'much', 'takes']\n",
      "162      ['000104496', '00134634', '0015882']\n",
      "163      ['000112297', '000510361', '000822361', '000851915', '00112897', '00113677']\n",
      "164      ['000118776', '000154858', '000379887', '000658096', '000740185', '00122127', '00158507']\n",
      "165      ['000121415', '000251048', '000419433', '000741238', '0009751']\n",
      "166      ['000121931', '000154344', '000597976', '00132224']\n",
      "167      ['000128402', '000466403', '000935097', '00118882', '00127242']\n",
      "168      ['000146166', '000784815', '000914112']\n",
      "169      ['000149611', '000254484', '00028446', '000342545', '000717298', '000918943', '00120731', '00134052', '00135353', '0015764', '00158112', '28277e', '74935e', '79304e', '07', '000295394']\n",
      "170      ['000173975', '000281587', '000828879', '00134573', '00138859']\n",
      "171      ['000176249', '0011547', '00150916']\n",
      "172      ['000204662', '000970411', '00132652', '00162791']\n",
      "173      ['000208043', '000388528', '000486314', '000972417', '00130591', '00148223', '00154554', '63164e']\n",
      "174      ['000209893', '000468307', '000606068', '000658771', '00147916']\n",
      "175      ['000213784', '00044146', '00102065', '00130641']\n",
      "176      ['000218611', '000627347', '000818812', '00147324']\n",
      "177      ['000228113', '000373652', '00038978', '000392118', '00160403']\n",
      "178      ['000228605', '000507011', '000510669', '00132182']\n",
      "179      ['000230336', '000309389', '0010244', '00143611']\n",
      "180      ['000233216', '000247751', '000302909', '000672392', '00121509']\n",
      "181      ['000233989', '000454297', '000615239', '000965391', '00123691']\n",
      "182      ['000237438', '000393385', '000533912', '000661417', '000699741']\n",
      "183      ['00024084', '000253858', '000306806', '000923061']\n",
      "184      ['000253155', '000437583', '00106998', '00112648', '001343']\n",
      "185      ['000253817', '000354644', '000479967', '00160269']\n",
      "186      ['000257429', '000404928', '000873691', '00111769', '0014425', '00144738']\n",
      "187      ['000288034', '000727566', '00145348', '7908e']\n",
      "188      ['000288376', '00070198', '000721091', '00105603']\n",
      "189      ['000289281', '00121285', '00127489']\n",
      "190      ['00029439', '000429939', '00110349']\n",
      "191      ['0002997', '000339263', '00062685', '000767073']\n",
      "192      ['000344981', '000664931', '00067521', '00104599']\n",
      "193      ['000349485', '0015892']\n",
      "194      ['000385199', '00116003', '00125393']\n",
      "195      ['000388454', '000599943']\n",
      "196      ['000392922', '000689932', '000692842', '000863904', '00116315', '00124763', '00133235', '00153979', '00162254']\n",
      "197      ['000407494', '000654478', '00106799', '0015844']\n",
      "198      ['000434826', '000997342', '00147126', '00149773']\n",
      "199      ['000438051', '000464908', '00152028', '69545e']\n",
      "200      ['00046674', '000766635', '00109457', '00118601', '00162762']\n",
      "201      ['000481291', '00103384', '00107373', '00121033', '00125502', '00159165', '77299e']\n",
      "202      ['000509222', '00117286', '0016061', '2099e']\n",
      "203      ['000515494', '000681381', '00142694', '00156054']\n",
      "204      ['000521099', '00101139', '00120606', '00129875']\n",
      "205      ['00053947', '000884418', '000894328', '00146811', '00153857']\n",
      "206      ['000543594', '000943677', '00163446']\n",
      "207      ['000555889', '000568793', '00146592']\n",
      "208      ['000558035', '00060477', '00122734', '00143099']\n",
      "209      ['000566388', '00095051', '00143176', '0016119']\n",
      "210      ['000592722', '00109647', '00159964', '00165102']\n",
      "211      ['000606723', '000679533', '00126601', '00127091']\n",
      "212      ['000624961', '000769519', '000948308', '00149124', '00150931']\n",
      "213      ['000641772', '000750848', '41461e']\n",
      "214      ['000723977', '000797545', '00153604']\n",
      "215      ['00075486', '000993489', '00104788', '00124217']\n",
      "216      ['000788925', '000861262', '00159783']\n",
      "217      ['000798503', '000908618', '00148554', '0122e', '1804e']\n",
      "218      ['000820195', '000955627', '0669e']\n",
      "219      ['000920251', '000978992', '00100001', '00160493']\n",
      "220      ['000927189', '000997195', '00110873', '00123337', '00159539', '00159927']\n",
      "221      ['000967188', '00104602', '00148124']\n",
      "222      ['00112502', '00116851', '00122709', '00166282']\n",
      "223      ['00137624', '00141866', '00142988']\n",
      "225      ['general', 'seen']\n",
      "226      ['interpretations', 'match', 'positive', 'disagree', 'substrings']\n",
      "228      ['high', 'site', 'ranking', 'higher', 'actual', 'characteristics', 'your', 'algorithms', 'factors', 'meaning', 'users', 'visits', 'denotes', 'inbound', 'among', 'outbound', 'counts', 'influence', 'modern', 'through']\n",
      "229      ['world', 'wide']\n",
      "230      ['assigned', 'should']\n",
      "231      ['path', 'patent', 'university', 'comes', 'goal', 'shortest', 'stanford']\n",
      "232      ['similarity', 'poor', 'small', 'smaller']\n",
      "233      ['trousers', 'topic', 'girl', 'hence', 'popularity', 'possible', 'wearing', 'computation', 'design', 'very', 'who', 'accurate', 'chance', 'discuss', 'engineering', 'happened', 'happening', 'modification', 'previous', 'right', 'systemdocument', 'theoretical', 'true']\n",
      "234      ['base', 'referred', 'well']\n",
      "235      ['bellman', 'having', '1940s', 'engines', 'learning', 'richard', 'toolbar', 'controlled', 'human', 'comparing', 'normally', 'provided', 'specialised']\n",
      "236      ['child', 'typically', 'over', 'parent']\n",
      "237      ['concept', 'support', 'provides', 'representation', 'basic', 'valid', 'solvable']\n",
      "238      ['either', 'accomplished', 'dividing', 'overriding', 'replacing']\n",
      "239      ['tf', 'idf', 'schemes']\n",
      "240      ['according', 'assign']\n",
      "241      ['bottom', 'central', 'plays', 'role', 'constant', 'yo', 'debates', 'greater', 'shares', 'vanishing']\n",
      "242      ['dimension', 'separate', 'corresponds']\n",
      "243      ['languages', 'categorization', 'powerful']\n",
      "244      ['relative', 'around', 'debate', 'definition', 'students', 'webpage']\n",
      "245      ['representing', 'text', 'algebraic']\n",
      "246      ['indexing', 'rankings', 'relevancy', 'filtering', 'smart']\n",
      "247      ['step', 'three']\n",
      "248      ['simple', 'until', 'case', 'clicking', 'person', 'prob', 'randomly']\n",
      "249      ['patient', 'symptoms', 'won', 'associated', 'relation', 'cannot', 'consider']\n",
      "250      ['thomas', 'law', 'rev']\n",
      "251      ['polymorphism', 'view', 'dual']\n"
     ]
    }
   ],
   "source": [
    "clust_dict = {}\n",
    "for clus in clusters:\n",
    "    if len(clus) == 1:\n",
    "        if 0 not in clust_dict:\n",
    "            clust_dict[0] = clus\n",
    "        else:\n",
    "            clust_dict[0] += clus\n",
    "    else:\n",
    "        clust_dict[clusters.index(clus)] = clus\n",
    "for key, value in clust_dict.items():\n",
    "    print(key, '    ', value)"
   ]
  },
  {
   "cell_type": "code",
   "execution_count": 121,
   "metadata": {},
   "outputs": [],
   "source": [
    "import os, sys, nltk, re\n",
    "\n",
    "# Open a file\n",
    "path = \"/Users/varunnandu/Desktop/plagiarism-detection-nlp/DATA-NLP\"\n",
    "dirs = os.listdir( path )\n",
    "\n"
   ]
  },
  {
   "cell_type": "code",
   "execution_count": 133,
   "metadata": {},
   "outputs": [],
   "source": [
    "question_mapping = dict() # Mapping to question dictionary\n",
    " # Mapping to student as key and answer as value\n",
    "\n",
    "for file in dirs:\n",
    "    if file == '.DS_Store':\n",
    "            continue\n",
    "    path_to_file='/Users/varunnandu/Desktop/plagiarism-detection-nlp/DATA-NLP/'\n",
    "    file_name = file\n",
    "    split_name = file.split('_')\n",
    "    student_name = split_name[0]\n",
    "    question_number = split_name[1].split('.')[0]\n",
    "    if question_number not in question_mapping:\n",
    "        question_mapping[question_number] = {}\n",
    "    path_to_file += file_name\n",
    "    with open(path_to_file, 'r', errors = 'ignore') as f:\n",
    "        mylist = f.read()\n",
    "        sent_tokenize_list = nltk.sent_tokenize(mylist)\n",
    "        temp = []\n",
    "        for i in sent_tokenize_list:\n",
    "            sent = i.lower()\n",
    "            sent = re.sub('[^A-Za-z0-9]+', ' ', sent)\n",
    "            temp.append(sent)\n",
    "        question_mapping[question_number][student_name] = temp\n",
    "        "
   ]
  },
  {
   "cell_type": "code",
   "execution_count": 189,
   "metadata": {},
   "outputs": [],
   "source": [
    "vector_dict = {}\n",
    "for key, value in question_mapping.items():\n",
    "    vector_dict[key] = {}\n",
    "    for student, answer in value.items():\n",
    "        vector_dict[key][student] = []\n",
    "        for sent in answer:\n",
    "            words = sent.split(' ')\n",
    "            temp_list = []\n",
    "            for w in words:\n",
    "                for cluster_key, cluster_value in clust_dict.items():\n",
    "                    if w in clust_dict[cluster_key]:\n",
    "                        temp_list.append( cluster_key)\n",
    "            vector_dict[key][student].append(temp_list)\n"
   ]
  },
  {
   "cell_type": "code",
   "execution_count": 144,
   "metadata": {},
   "outputs": [],
   "source": [
    "vector_name = {}\n",
    "rep = 0\n",
    "for key, value in vector_dict.items():\n",
    "    for student, vector in value.items():\n",
    "        for v in vector:\n",
    "            vector_name[tuple(v)] = rep\n",
    "            rep+=1\n",
    "        \n",
    "\n",
    "        "
   ]
  },
  {
   "cell_type": "code",
   "execution_count": 154,
   "metadata": {},
   "outputs": [
    {
     "name": "stdout",
     "output_type": "stream",
     "text": [
      "taskc      {'g0pC': [0, 1, 2, 3, 4, 5, 6, 7, 8], 'g0pE': [9], 'g1pA': [10, 11, 12, 76, 14, 15, 16, 17, 18, 19, 20], 'g3pB': [21, 22, 23, 24, 25, 26, 27, 28, 29], 'g0pB': [30, 74, 153, 108, 137, 78, 133, 134, 82, 39, 40, 138, 42], 'g2pA': [43, 153, 45, 772, 47, 48, 49, 50, 51, 133, 53, 82, 55, 56, 57, 86, 909, 60], 'g0pD': [61, 62, 63, 64, 65, 66, 67, 68, 137, 70, 71], 'orig': [72, 153, 74, 155, 76, 137, 78, 79, 133, 134, 82, 83, 84, 85, 86, 909, 118], 'g3pC': [89, 90, 91, 92, 93, 94, 95], 'g2pB': [96, 97, 98, 99, 100, 101, 102, 103, 104, 105], 'g0pA': [106, 107, 108, 109, 110, 111, 112, 113, 114, 115, 116, 117, 118], 'g4pC': [119, 120, 909, 122, 909, 124, 750, 909, 127, 909, 129, 909, 131, 132], 'g4pE': [133, 134, 135, 136, 137, 138, 139, 140, 141, 142, 143], 'g2pC': [144, 145, 146, 147, 148, 149, 150, 151], 'g4pB': [152, 153, 154, 155, 156, 157, 158, 159, 160, 161, 162, 163], 'g1pD': [164, 165, 166, 167], 'g4pD': [168, 169, 170, 171, 172, 173, 174, 175, 176, 177, 178, 179, 180, 181, 182, 183], 'g2pE': [184, 185, 186, 187, 188], 'g3pA': [189, 190, 191, 192, 193, 194, 195, 196, 197, 198, 199, 200, 201], 'g1pB': [202, 203, 204, 205, 206, 207, 208, 209, 210, 211, 212, 213, 214, 215, 216, 217]}\n",
      "taskd      {'g0pE': [218, 219, 220], 'g3pB': [221, 222, 223, 224, 225, 226], 'g1pA': [227, 228, 229, 372, 231, 232, 233], 'g0pC': [367, 235, 236, 237, 370, 239, 240, 241], 'g0pD': [242, 243], 'g3pC': [244, 245, 246, 247, 248], 'orig': [367, 392, 333, 369, 253, 371, 372, 373, 374, 375, 316, 386, 318, 386, 320, 378], 'g2pA': [367, 392, 333, 369, 370, 371, 271, 272, 273, 274, 275, 276, 277, 278, 279, 280, 281, 282, 283, 284], 'g0pB': [360, 286, 287, 288, 386, 290, 291, 292, 293, 294, 295, 296], 'g4pE': [297, 298, 909, 300, 301, 302, 303, 304, 305], 'g4pC': [391, 307, 308, 369, 370, 371, 373, 313, 314, 315, 316, 386, 318, 386, 320, 378], 'g0pA': [322, 323, 324, 325, 326, 327, 328, 329, 330], 'g2pB': [331, 392, 333, 334, 335, 336, 337, 338, 373, 340, 341, 342, 343], 'g2pE': [344, 345, 346, 347, 348, 354], 'g4pD': [350, 351, 352, 353, 354, 355, 356, 357, 358, 359], 'g1pB': [360, 361, 362, 363, 364, 365, 366], 'g3pA': [367, 368, 369, 370, 371, 372, 373, 374, 375, 376, 377, 378], 'g4pB': [379, 380, 381, 382, 383, 384, 385, 386, 387, 388, 389, 390], 'g2pC': [391, 392, 393, 394, 395, 396, 397, 398, 399], 'g1pD': [400, 401, 402, 403, 404, 405, 406]}\n",
      "taske      {'g0pE': [407, 528, 622, 602, 603, 623], 'g1pA': [413, 414, 415, 416, 417, 418, 419, 420, 421, 422], 'g3pB': [423, 424, 622, 426, 603, 428, 632, 624], 'g0pC': [431, 432, 433, 599, 559, 436, 437, 438, 439, 440], 'g0pD': [441, 442, 443, 444, 445], 'orig': [446, 528, 598, 599, 559, 600, 622, 602, 603, 623, 624, 457, 625, 626, 909, 628, 909, 630, 631, 909, 466, 467, 632, 633, 634, 635, 636, 637, 474, 638, 639], 'g3pC': [477, 478, 479, 480, 481, 482], 'g0pB': [483, 484, 485, 486, 487, 488, 489, 490, 491, 492, 909, 494, 909, 496, 497], 'g2pA': [498, 499, 500, 501, 502, 503, 504, 505, 506, 507, 508, 509, 510, 511, 512, 513], 'g4pE': [514, 750, 516, 517, 518, 519, 520, 521, 522, 523, 909, 525, 526], 'g2pB': [621, 528, 529, 530, 602, 603, 623, 624, 535, 536, 628, 630, 631], 'g0pA': [540, 541, 542, 543, 544, 909, 546, 909, 548, 909, 550, 551, 552, 553, 554], 'g4pC': [555, 556, 557, 599, 559, 560, 561, 562, 563, 624, 565, 566, 567], 'g4pD': [568, 772, 570, 571, 572, 573, 574, 575, 576, 633, 634, 579], 'g2pE': [580, 581, 582, 583, 584, 585, 586, 587], 'g3pA': [588, 589, 590, 591, 592, 593, 594, 595, 596], 'g1pB': [597, 598, 599, 600, 622, 602, 603, 623, 605, 606, 607, 608, 609, 610], 'g2pC': [611, 612, 613, 614, 615, 616, 617, 618, 619, 620], 'g4pB': [621, 622, 623, 624, 625, 626, 909, 628, 909, 630, 631, 632, 633, 634, 635, 636, 637, 638, 639, 640], 'g1pD': [641, 642, 643, 644, 645, 646, 647, 648, 649, 650, 651]}\n",
      "taskb      {'g0pC': [652, 653, 654, 655, 656, 657, 658, 659, 660], 'g0pE': [802, 753, 663], 'g3pB': [664, 665, 666, 667, 668, 669, 670, 671, 672, 673], 'g1pA': [674, 675, 676, 677, 678, 679, 680, 681, 682], 'g2pA': [683, 684, 685, 686, 687, 688, 689, 690, 691, 692, 693, 694], 'g0pB': [695, 696, 697, 698, 699, 700, 701], 'g0pD': [702, 703, 704, 705], 'g3pC': [706, 707, 708, 709, 710, 711, 712], 'orig': [802, 753, 775, 776, 777, 778, 719, 720, 721, 722, 723, 779, 780, 781, 727, 728, 803, 804, 731, 756, 757, 734, 782, 783, 737], 'g4pC': [738, 739, 740, 741, 742, 743, 744], 'g0pA': [802, 746, 747, 750, 749, 750, 751, 752, 753, 754, 755, 756, 757, 758, 759], 'g2pB': [760, 761, 762, 763, 764, 765, 766, 767, 768, 769, 770], 'g4pE': [771, 772, 773, 776, 775, 776, 777, 778, 779, 780, 781, 782, 783], 'g4pB': [784, 785, 786, 787, 788, 789, 790, 791, 792, 793, 794], 'g2pC': [795, 796, 797, 798, 799, 800, 801], 'g1pD': [802, 803, 804, 820, 806, 822, 808, 824, 826, 827, 812, 813], 'g2pE': [814, 815, 816, 817, 818, 819], 'g4pD': [820, 909, 822, 823, 824, 909, 826, 827, 828, 829, 830, 831, 832, 833], 'g1pB': [834, 835, 836, 837, 838, 839, 840, 841, 842, 843, 844], 'g3pA': [845, 846, 847, 848, 849, 850, 851, 852, 853]}\n",
      "taska      {'g0pC': [854, 855, 856, 857, 858, 859, 860, 861, 862, 863], 'g3pB': [864, 865, 866, 867, 868, 869, 870, 871, 872, 873], 'g1pA': [874, 875, 876, 877, 878, 879, 880, 881, 882, 883, 884, 885], 'g0pE': [954, 933, 888, 1030, 936, 937, 959, 960, 961, 962, 1031, 1032, 1033], 'g2pA': [899, 900, 901, 902, 903, 904, 905, 906, 907, 908, 909, 910, 911, 912, 913], 'g0pB': [914, 915, 916, 917, 918, 919, 920, 921, 922, 923, 924, 925], 'g3pC': [954, 959, 960, 961, 930, 1033], 'orig': [954, 933, 1029, 1030, 936, 937, 959, 960, 961, 962, 1031, 1032, 1033, 966], 'g0pD': [946, 947, 948, 949, 950, 961, 952, 1031], 'g4pC': [954, 955, 956, 1029, 1030, 959, 960, 961, 962, 1031, 1032, 1033, 966], 'g0pA': [967, 968, 969, 970, 971, 972, 973, 974], 'g2pB': [975, 976, 977, 978, 979, 980, 981, 982, 983, 984, 985, 986, 987], 'g4pE': [988, 989, 990, 991, 992, 993, 994, 995, 996, 997, 998], 'g1pD': [999, 1000, 1001, 1002, 1003, 1004, 1005, 1006, 1007, 1008, 1009], 'g4pB': [1010, 1011, 1012, 1013, 1014, 1015, 1016, 1017, 1018, 1019, 1020, 1021, 1022, 1023, 1024, 1025, 1026, 1027], 'g2pC': [1028, 1029, 1030, 1031, 1032, 1033, 1034, 1035, 1036, 1037], 'g1pB': [1038, 1039, 1040, 1041, 1042, 1043, 1044, 1045, 1046, 1047, 1048], 'g3pA': [1049, 1050, 1051, 1052, 1053, 1054, 1055], 'g2pE': [1056, 1057, 1058, 1059, 1060, 1061, 1062, 1063, 1064, 1065, 1066, 1067, 1068], 'g4pD': [1069, 1070, 1071, 1072, 1073, 1074, 1075, 1076, 1077, 1078, 1079]}\n",
      "5\n"
     ]
    }
   ],
   "source": [
    "pro_dict = {}\n",
    "# for key, value in vector_dict.items():\n",
    "#     for student, vector in value.items():\n",
    "#         for v in vector:\n",
    "#             ans = tuple(v)\n",
    "#             pro_dict.setdefault(student, []).append(vector_name[ans])\n",
    "for key, value in vector_dict.items():\n",
    "    pro_dict[key] = {}\n",
    "    for student, answer in value.items():\n",
    "        pro_dict[key][student] = []\n",
    "        for v in answer:\n",
    "            ans = tuple(v)\n",
    "            pro_dict[key][student].append(vector_name[ans])\n",
    "\n",
    "for key, value in pro_dict.items():\n",
    "    print(key, '    ', value)\n",
    "    \n",
    "print(len(pro_dict.keys()))"
   ]
  },
  {
   "cell_type": "code",
   "execution_count": 176,
   "metadata": {
    "collapsed": true
   },
   "outputs": [],
   "source": [
    "import pyfpgrowth\n",
    "transactions = []\n",
    "inp = \"taskd\""
   ]
  },
  {
   "cell_type": "code",
   "execution_count": 177,
   "metadata": {},
   "outputs": [
    {
     "name": "stdout",
     "output_type": "stream",
     "text": [
      "[[218, 219, 220], [221, 222, 223, 224, 225, 226], [227, 228, 229, 372, 231, 232, 233], [367, 235, 236, 237, 370, 239, 240, 241], [242, 243], [244, 245, 246, 247, 248], [367, 392, 333, 369, 253, 371, 372, 373, 374, 375, 316, 386, 318, 386, 320, 378], [367, 392, 333, 369, 370, 371, 271, 272, 273, 274, 275, 276, 277, 278, 279, 280, 281, 282, 283, 284], [360, 286, 287, 288, 386, 290, 291, 292, 293, 294, 295, 296], [297, 298, 909, 300, 301, 302, 303, 304, 305], [391, 307, 308, 369, 370, 371, 373, 313, 314, 315, 316, 386, 318, 386, 320, 378], [322, 323, 324, 325, 326, 327, 328, 329, 330], [331, 392, 333, 334, 335, 336, 337, 338, 373, 340, 341, 342, 343], [344, 345, 346, 347, 348, 354], [350, 351, 352, 353, 354, 355, 356, 357, 358, 359], [360, 361, 362, 363, 364, 365, 366], [367, 368, 369, 370, 371, 372, 373, 374, 375, 376, 377, 378], [379, 380, 381, 382, 383, 384, 385, 386, 387, 388, 389, 390], [391, 392, 393, 394, 395, 396, 397, 398, 399], [400, 401, 402, 403, 404, 405, 406]]\n"
     ]
    }
   ],
   "source": [
    "for k, v in pro_dict.items():\n",
    "    if k == inp:\n",
    "        for name, vec in v.items():\n",
    "            transactions.append(vec)\n",
    "print(transactions)\n",
    "# 3 is the support\n",
    "# for item in find_frequent_itemsets(transactions, 3):\n",
    "#     if len(item) < 3:\n",
    "#         continue\n",
    "#     frequent_list.append(item)\n",
    "\n",
    "# print frequent_list"
   ]
  },
  {
   "cell_type": "code",
   "execution_count": 181,
   "metadata": {},
   "outputs": [
    {
     "name": "stdout",
     "output_type": "stream",
     "text": [
      "[[373, 378, 386], [371, 373, 378], [371, 373, 378, 386], [371, 378, 386], [369, 371, 378], [369, 371, 378, 386], [369, 371, 373, 378], [369, 371, 373, 378, 386], [369, 373, 378, 386], [369, 378, 386], [367, 369, 371], [369, 370, 371], [369, 371, 386], [371, 373, 386], [369, 371, 373], [369, 371, 373, 386], [369, 373, 386]]\n"
     ]
    }
   ],
   "source": [
    "patterns = pyfpgrowth.find_frequent_patterns(transactions, 3)\n",
    "frequent_list = []\n",
    "for p in patterns:\n",
    "    if len(p) < 3:\n",
    "        continue\n",
    "    else:\n",
    "        frequent_list.append(list(p))\n",
    "print(frequent_list)"
   ]
  },
  {
   "cell_type": "code",
   "execution_count": 186,
   "metadata": {
    "collapsed": true
   },
   "outputs": [],
   "source": [
    "def is_sub(sub, lst):\n",
    "    ln = len(sub)\n",
    "    for i in range(len(lst) - ln + 1):\n",
    "        if all(sub[j] == lst[i+j] for j in range(ln)):\n",
    "            return True\n",
    "    return False"
   ]
  },
  {
   "cell_type": "code",
   "execution_count": 187,
   "metadata": {},
   "outputs": [
    {
     "name": "stdout",
     "output_type": "stream",
     "text": [
      "{'taskd': ['g2pA', 'g4pC', 'g3pA']}\n",
      "Question taskd was copied from g2pA\n",
      "Question taskd was copied from g4pC\n",
      "Question taskd was copied from g3pA\n"
     ]
    }
   ],
   "source": [
    "output_dict= {}\n",
    "for lst in frequent_list:\n",
    "    for k, v in pro_dict.items():\n",
    "        for name, vec in v.items():\n",
    "            if is_sub(lst,vec):\n",
    "                if k not in output_dict:\n",
    "                    output_dict[k] = [name]\n",
    "                else:\n",
    "                    output_dict[k].append(name)\n",
    "\n",
    "print(output_dict)\n",
    "for k, v in output_dict.items():\n",
    "    for item in v:\n",
    "        print('Question ' + k + ' was copied from ' + item)"
   ]
  },
  {
   "cell_type": "code",
   "execution_count": null,
   "metadata": {
    "collapsed": true
   },
   "outputs": [],
   "source": []
  }
 ],
 "metadata": {
  "kernelspec": {
   "display_name": "Python 3",
   "language": "python",
   "name": "python3"
  },
  "language_info": {
   "codemirror_mode": {
    "name": "ipython",
    "version": 3
   },
   "file_extension": ".py",
   "mimetype": "text/x-python",
   "name": "python",
   "nbconvert_exporter": "python",
   "pygments_lexer": "ipython3",
   "version": "3.6.1"
  }
 },
 "nbformat": 4,
 "nbformat_minor": 2
}
