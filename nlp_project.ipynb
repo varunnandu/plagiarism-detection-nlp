{
 "cells": [
  {
   "cell_type": "code",
   "execution_count": 1,
   "metadata": {
    "collapsed": true
   },
   "outputs": [],
   "source": [
    "from __future__ import division\n",
    "from sklearn.cluster import KMeans\n",
    "from numbers import Number\n",
    "from pandas import DataFrame\n",
    "import sys, codecs, numpy"
   ]
  },
  {
   "cell_type": "code",
   "execution_count": 2,
   "metadata": {
    "collapsed": true
   },
   "outputs": [],
   "source": [
    "class autovivify_list(dict):\n",
    "  def __missing__(self, key):\n",
    "    '''Given a missing key, set initial value to an empty list'''\n",
    "    value = self[key] = []\n",
    "    return value\n",
    "\n",
    "  def __add__(self, x):\n",
    "    '''Override addition for numeric types when self is empty'''\n",
    "    if not self and isinstance(x, Number):\n",
    "      return x\n",
    "    raise ValueError\n",
    "\n",
    "  def __sub__(self, x):\n",
    "    '''Also provide subtraction method'''\n",
    "    if not self and isinstance(x, Number):\n",
    "      return -1 * x\n",
    "    raise ValueError"
   ]
  },
  {
   "cell_type": "code",
   "execution_count": 3,
   "metadata": {
    "collapsed": true
   },
   "outputs": [],
   "source": [
    "def build_word_vector_matrix(vector_file, n_words):\n",
    "  '''Return the vectors and labels for the first n_words in vector file'''\n",
    "  numpy_arrays = []\n",
    "  labels_array = []\n",
    "  with codecs.open(vector_file, 'r', 'utf-8') as f:\n",
    "    for c, r in enumerate(f):\n",
    "      sr = r.split()\n",
    "      labels_array.append(sr[0])\n",
    "      numpy_arrays.append( numpy.array([float(i) for i in sr[1:]]) )\n",
    "\n",
    "      if c == n_words:\n",
    "        return numpy.array( numpy_arrays ), labels_array\n",
    "\n",
    "  return numpy.array( numpy_arrays ), labels_array"
   ]
  },
  {
   "cell_type": "code",
   "execution_count": 4,
   "metadata": {
    "collapsed": true
   },
   "outputs": [],
   "source": [
    "def find_word_clusters(labels_array, cluster_labels):\n",
    "  '''Return the set of words in each cluster'''\n",
    "  cluster_to_words = autovivify_list()\n",
    "  for c, i in enumerate(cluster_labels):\n",
    "    cluster_to_words[ i ].append( labels_array[c] )\n",
    "  return cluster_to_words"
   ]
  },
  {
   "cell_type": "code",
   "execution_count": 5,
   "metadata": {},
   "outputs": [
    {
     "data": {
      "text/plain": [
       "KMeans(algorithm='auto', copy_x=True, init='k-means++', max_iter=300,\n",
       "    n_clusters=126, n_init=10, n_jobs=1, precompute_distances='auto',\n",
       "    random_state=None, tol=0.0001, verbose=0)"
      ]
     },
     "execution_count": 5,
     "metadata": {},
     "output_type": "execute_result"
    }
   ],
   "source": [
    "input_vector_file = 'vectors.txt' \n",
    "n_words = int(1262) # Number of words to analyze \n",
    "reduction_factor = float(0.1) # Amount of dimension reduction {0,1}\n",
    "n_clusters = int( n_words * reduction_factor ) # Number of clusters to make\n",
    "df, labels_array = build_word_vector_matrix(input_vector_file, n_words)\n",
    "kmeans_model = KMeans(init='k-means++', n_clusters=n_clusters, n_init=10)\n",
    "kmeans_model.fit(df)\n"
   ]
  },
  {
   "cell_type": "code",
   "execution_count": 6,
   "metadata": {
    "collapsed": true
   },
   "outputs": [],
   "source": [
    "cluster_labels  = kmeans_model.labels_\n",
    "cluster_inertia   = kmeans_model.inertia_\n",
    "cluster_to_words  = find_word_clusters(labels_array, cluster_labels)\n",
    "\n",
    "clusters = []\n",
    "for c in cluster_to_words:\n",
    "    clusters.append(cluster_to_words[c])"
   ]
  },
  {
   "cell_type": "code",
   "execution_count": 7,
   "metadata": {},
   "outputs": [
    {
     "name": "stdout",
     "output_type": "stream",
     "text": [
      "0      ['the', 'of', 'is', 'to', 'and', 'in', 'that', 'as', 'it', 'by', 'are', 'or', 'used', 'an', 'vector', 'we', 'problem', 'methods']\n",
      "5      ['05', '000149611', '000254484', '00028446', '000342545', '000599943', '000717298', '000782035', '000788925', '000861262', '000908618', '000918943', '00100001', '00120731', '00134052', '00135353', '00148223', '00148554', '0015764', '00158112', '00159783', '0122e', '1804e', '28277e', '74935e', '79304e', '07', '000295394']\n",
      "8      ['be', 'can']\n",
      "13      ['for', 'example']\n",
      "14      ['this', 'using']\n",
      "16      ['probability', 'theory', 'prior']\n",
      "17      ['programming', 'dynamic', 'at', 'computer', 'science']\n",
      "19      ['which', 'new', 'way', 'form']\n",
      "22      ['pagerank', 'on', 'page', 'links', 'other', 'pages', 'web']\n",
      "23      ['term', 'if', 'occurs']\n",
      "24      ['from', 'how', 'important', 'results', 'uses', 'high', 'linked', 'name', 'rank', 'sites']\n",
      "25      ['classes', 'derived', 'base', 'referred']\n",
      "26      ['h0k', 'he', 'ubx', 'hhk', 'hij', 'hijses']\n",
      "27      ['all', 'common']\n",
      "28      ['has', '000624961', '00075486', '000948308', '000993489', '00104788', '00149124', '00150931']\n",
      "29      ['theorem', 'bayes', 'given', 'compute', 'often', 'posterior']\n",
      "30      ['with', 'inheritance', 'objects', 'properties', 'structure', 'kind']\n",
      "31      ['have', 'been', 'already']\n",
      "32      ['document', 'each', 'between', 'where', 'query']\n",
      "33      ['one', 'class', 'search', 'another', 'best', 'superclass', 'only', 'subclass', 'child', 'needs', 'decisions']\n",
      "34      ['06', '000438051', '000464908', '000479967', '000641772', '000750848', '00152028', '41461e', '69545e']\n",
      "35      ['problems', 'method', 'solving']\n",
      "36      ['documents', 'such', 'vectors', 'represented']\n",
      "37      ['optimal', 'subproblems', 'these', 'substructure', 'overlapping', 'exhibit']\n",
      "38      ['information', 'retrieval']\n",
      "39      ['probabilities', 'two']\n",
      "40      ['space', 'model']\n",
      "41      ['google', 'algorithm', 'link', 'analysis']\n",
      "42      ['also', 'called', 'known']\n",
      "43      ['number', 'value', 'its', 'importance', 'process', 'depends', 'like', 'original', 'within', 'cosine', 'dimensionality', 'similarities', 'webpage', 'angle', 'total']\n",
      "44      ['terms', 'words', 'keywords', 'single', 'longer']\n",
      "46      ['not', 'may', 'then', 'they', 'certain', 'could', 'need', 'observed', 'applied', 'does']\n",
      "48      ['conditional', 'marginal', 'relates']\n",
      "49      ['more', 'ancestor', 'exposed', 'those', 'adding']\n",
      "50      ['any', 'because', 'generalization', 'sometimes', 'hierarchy', 'represent', 'relationships']\n",
      "51      ['events', 'random']\n",
      "53      ['object', 'word', 'oriented', 'optimization', 'mathematical']\n",
      "54      ['about', '000118776', '000121931', '000154344', '000257429', '000379887', '000404928', '000597976', '000873691', '0014425', '00144738', '0015844']\n",
      "55      ['solutions', 'solution', 'find', 'solve']\n",
      "56      ['sub', 'into']\n",
      "57      ['many', 'will', 'so', 'when', 'their', 'would', 'calculated', 'calculate', 'computed', 'say', 'determine', 'do', 'create', 'try']\n",
      "58      ['means', 'program', 'instance', 'plan', 'action', 'finding', 'sense']\n",
      "59      ['was', 'first']\n",
      "60      ['8i', '8w', '8e', '8z', '8j', 'b8', 'l8', 'c8', 'h8', '8l', '8p', 'd8', 'r8', 't8', '8n', 'a8', 'f8', 'x8', '88', 'm8', 'n8', 'k8', '000769519', '000820195', '00141866', '7o', '87', 'v8', '79', '84', '7v', '97', 'j8', 'v9', 'w7', '28', '78', '7a', '7q', '7r', '8r', '58', '7f', '7z', '8c', '9s', '18', '7c', '7h', '7k', '9r', 'data', 'e8', 'f7', 'g9', 'l9', 'y7', '7b', '7g', '7i', '86', '9a', 'collection', 'every', 'i7', 'main', '09', '19', '6m', '7e', '7s', '7x', '83', '_8', 'r9', '08', '10', '77', '7m', '90', 'available', 'c7', 'g7', 'h7', 'key', 'u7', 'z7', 'z9', '59', '6b', '6v', '72', '7_', '7n', '91', 'b7', 'e7', 'equal', 'factor', 'following', 'k7', 'n7', 'om', 'popularity', 'relevance', 'w9', '6e', '73', '76', '96', 'ae', 'assumptions', 'basically', 'dx', 'fs', 'ht', 'idea', 'kw', 'lg', 'md', 'memoization', 'popular', 'ra', 'rd', 'research', 'rj', 'ro', 'ss', 'subsets', 'zn', '17', '37', '4e', '5x', '67', '6i', '6l', '6r', '70', '74', '93', '_9', 'ac', 'accurate', 'bd', 'behaviours', 'bm', 'd6', 'd7', 'da', 'dc', 'es', 'evidence', 'fi', 'fj', 'fk', 'fv', 'g6', 'gb', 'gr', 'h1', 'hc', 'ii', 'il', 'inherited', 'io', 'iv', 'j6', 'kf', 'km', 'ku', 'kx', 'lt', 'make', 'measure', 'mt', 'og', 'pp', 'previous', 'qf', 'qj', 'remembered', 'ri', 'together', 'type', 'ui', 'un', 'uq', 'vl', 'wa', 'wz', 'xl', 'xt', 'ya']\n",
      "61      ['different', 'order', 'ways', 'general', 'assigned', 'should', 'describes']\n",
      "62      ['8x', '8v', '8b', 'p8', '8m', 's8', '9e', 'i8', '8k', '8o', '8t', '9m', 'g8', '8a', '9g', '9h', '89', 'u8', '9i', 'o9', '9y', '000226815', '000955627', '00147324', '9q', '9b', 'c9', 'since', 'u9', 'x9', 'q9', 'r7', '9d', '9o', 'p9', '68', '81', '95', 'a9', '29', '49', '85', 'dp', 'e9', 'y9', '7j', 'd9', 'entities', 'f9', 'ir', 'l7', 'plays', '75', '9_', 'i9', 'k9', 'm7', 'm9', 'q7', '69', 'a1', 'a7', 'pr', 's9', 'ff', 'processing', 'uh', 'whilst', 'xp', 'yo', 'bw', 'equation', 'hg', 'mechanism', 'ny', 'postgraduate', 'qw', 'solves', 'transport', 'very', 'who', 'whole', 'yz', 'z6', '1g', '60', 'animals', 'ch', 'content', 'eh', 'fd', 'features', 'functions', 'further', 'get', 'greater', 'h6', 'just', 'jz', 'language', 'modification', 'nodes', 'patented', 'qs', 'qz', 'recursively', 'superclasses', 'surfer', 'weight', 'without', 'yr', 'zp', '<unk>']\n",
      "63      ['code', 'set', 'describe', 'beliefs', 'statistics', 'advantage', 'complexity', 'frequencies', 'hyperlinked', 'bayesians', 'degrees', 'measuring', 'reducing', 'unique', 'foundations', 'purpose', 'types', 'distinct', 'seed', 'uncertainty', 'angles', 'givenis', 'occurring', 'pieces']\n",
      "64      ['up', 'time', 'but', 'some', 'approach', 'you', 'overall', 'others', 'extend', 'graph', 'needed', 're', 'won', 'even', 'intended', 'made', 'originally', 'out', 'relation', 'save', 'stored', 'cannot', 'chosen', 'consider', 'due', 'found', 'access', 'add', 'again', 'cases', 'manipulation', 'said']\n",
      "65      ['values', 'existing', 'similarity', 'weights', 'developed', 'subclasses', 'characteristics', 'inbound', 'poorly', 'pre', 'four', 'instances', 'long']\n",
      "66      ['8q', 'o8', 'being', '8h', 'however', 'most', 'use', '98', '8d', '8f', '8u', '8g', 'y8', 'q8', 'w8', 'z8', '7w', '00142988', '48', '7p', 'therefore', '38', '7d', '8s', 'defined', 'keyword', 'b9', '7y', 'v7', 'usually', '7u', 'allows', 'relationship', 'system', 'useful', 'what', '7t', 'formula', 'j7', '82', 'generally', 'ja', 'n9', 'see', 'zs', '6a', '7l', 'considered', 'jj', 'second', 'vote', '8_', 'seen', 'cx', 'df', 'formed', 'fu', 'jm', 'qd']\n",
      "67      ['student', 'event', 'diagnosis', 'distribution', 'correct', 'proposed', 'formal', 'happened', 'right']\n",
      "68      ['no', 'particular', 'connection']\n",
      "69      ['there', 'same', 'based', 'models', 'well']\n",
      "70      ['fruit', 'apple', 'acceptable', 'abstraction']\n",
      "71      ['9j', '9x', '8y', '9n', '9p', '9f', 'computing', '9l', '9v', 'h9', '9k', '80', '99', '9z', '000818812', '2099e', '9u', 'j9', '9c', 't9', '92', 'orange', 'etc', '39', 'down', 'top', 'account', 'de', 'schedule', 'finalized', 'view', 'ba', 'below', 'context', 'conversely', 'involves', 'numeric', 'precisely', 'reciprocal', 'small', 'co', 'dual', 'f1', 'mango', 'nq', 'quotations', 'shape', 'st']\n",
      "72      ['inherit', 'both', 'attributes']\n",
      "73      ['9t', 'element', 'identifiers', 'index', 'produced', 'topic', 'girl', 'hence', 'polymorphism', 'possible', 'queries', 'systems', 'calculating', 'container', 'expressed', 'field', 'fleshy', 'populations', 'acts', 'chance', 'happening', 'proportions', 'systemdocument', 'true']\n",
      "74      ['9w', 'naive', 'reuse', 'x7', 'apples', 'hijubx', 'university', 'phrases', 'comes', 'help', 'must', 'rq', 'shortest', 'stanford', 'f5', 'had', 'naturally', 'poor', 'qx', 'economy', 'our', 'rh', 'ru', 'yn', '1953', 'gi', 'qu', 'reach', 'refined', 'rz', 'sn', 'storing', 'us']\n",
      "75      ['non', 'vocabulary', 'zero', 'several', 'frequency', 'lost']\n",
      "76      ['bayesian', 'than', 'f2', 'frequentist', 'take', 'f3', 'f4', 'over', 'product', 'train', 'large', 'behavior', 'references', 'car', 'discuss', 'engineering', 'public']\n",
      "77      ['similar', '000784815', '000914112', 'share', 'step', 'three', 'lot', 'interfaces', 'modules', 'sufficiently', 'smaller', 'described']\n",
      "78      ['solved', 'variables', 'them', 'divided', 'themselves', 'updated']\n",
      "79      ['000222005', '000837489', '000253858', '00028579', '000306806', '000606723', '000641574', '00078398', '00145284', '00154063']\n",
      "80      ['000714138', '000213784', '000679629', '00102065', '00109457', '00130641', '00133258', '00139828']\n",
      "81      ['00105573', '000218071', '000346468', '000722866', '00118384', '98124e']\n",
      "82      ['00127245', '00027091', '000344981', '00067521', '00104599', '00127034']\n",
      "83      ['false', 'result', 'applications', 'negative', 'might', 'associated', 'recursive', 'appear']\n",
      "84      ['instead', 'concept', 'languages', 'categorization', 'support', 'provides', 'representation', 'basic', 'exhibition', 'thus', 'powerful', 'synonym', 'valid', 'constant', 'appears', 'computation', 'invented', 'technique', 'solvable']\n",
      "85      ['specific', 'dimension', 'separate', 'corresponds']\n",
      "86      ['weighting', 'path', 'site', 'internet', 'patent', 'ranking', 'higher', 'actual', 'your', 'algorithms', 'factors', 'meaning', 'subproblem', 'goal', 'users', 'visits', 'circle', 'denotes', 'include', 'relevant', 'toolbar', 'among', 'outbound', 'website', 'affect', 'articles', 'counts', 'influence', 'modern', 'theoretical', 'through']\n",
      "87      ['000104496', '000288376', '000349485', '000797545', '00105603', '00153604', '0015892']\n",
      "88      ['000112297', '000521099', '000851915', '00101139', '00113677', '00120606', '00129875']\n",
      "89      ['000121415', '000251048', '000289281', '000419433', '000741238', '0009751', '00121285', '00127489']\n",
      "90      ['000128402', '000466403', '000935097', '000997195', '00118882', '00127242']\n",
      "91      ['000146166', '000228113', '000373652', '00038978', '000392118', '00160403']\n",
      "92      ['000154858', '000658096', '000740185', '00143611']\n",
      "93      ['000173975', '000434826', '000828879', '000884418', '000894328', '000997342', '00134573', '00138859', '00147126', '00149773', '00153857']\n",
      "94      ['000176249', '00024084', '000664931', '000923061', '0011547', '00150916']\n",
      "95      ['000204662', '000510361', '000822361', '000970411', '00112897', '00132652', '00162791']\n",
      "96      ['000208043', '000388528', '000481291', '000486314', '00053947', '000972417', '00103384', '00107373', '00121033', '00125502', '00130591', '00146811', '00154554', '00159165', '0669e', '63164e', '77299e']\n",
      "97      ['000209893', '000468307', '000606068', '000658771', '000927189', '00110873', '00123337', '00137624', '00146592', '00147916', '00159539', '00159927']\n",
      "98      ['000218611', '000407494', '000627347', '000654478', '00106799']\n",
      "99      ['000228605', '00044146', '000507011', '000510669', '00132182']\n",
      "100      ['000230336', '000309389', '0010244', '00116003']\n",
      "101      ['000233216', '000237438', '000247751', '000302909', '000393385', '000672392', '00121509']\n",
      "102      ['000233989', '000454297', '000555889', '000568793', '000615239', '000965391', '00123691']\n",
      "103      ['000253155', '000437583', '00060477', '00106998', '00112648', '001343', '00134634', '00143099', '0015882']\n",
      "104      ['000253817', '000354644', '000533912', '000661417', '000699741', '00160269']\n",
      "105      ['000281587', '000392922', '000689932', '000692842', '000863904', '00116315', '00124763', '00133235', '00153979', '0016119', '00162254']\n",
      "106      ['000288034', '00122644', '00145348', '7908e']\n",
      "107      ['00029439', '000388454', '000429939', '00110349', '00124217']\n",
      "108      ['0002997', '00046674', '000766635', '000767073', '00118601', '00122127', '00158507', '00162762']\n",
      "109      ['000339263', '00062685', '000798503', '000967188', '00104602', '00148124']\n",
      "110      ['000385199', '000978992', '00112502', '00116851', '00122709', '00125393', '00160493', '00166282']\n",
      "111      ['000509222', '000566388', '000727566', '00095051', '00117286', '00143176', '0016061']\n",
      "112      ['000515494', '000681381', '000920251', '00111769', '00142694', '00156054']\n",
      "113      ['000543594', '000943677', '00132224', '00163446']\n",
      "114      ['000558035', '00070198', '000721091', '00122734']\n",
      "115      ['000592722', '000679533', '000723977', '00076664', '00109647', '00126601', '00127091', '00159964', '00165102']\n",
      "116      ['after', 'thomas', 'law', 'rev']\n",
      "117      ['interpretations', 'match', 'bottom', 'central', 'takes', 'role', 'positive', 'disagree', 'matches', 'wear', 'debates', 'entity', 'shares', 'substrings', 'vanishing']\n",
      "118      ['less', 'indexing', 'rankings', 'relevancy', 'filtering', 'cognitive', 'smart', 'mathematics']\n",
      "119      ['world', 'wide', 'relative', 'application', 'around', 'debate', 'definition', 'upon', 'scale', 'students', 'specified']\n",
      "120      ['assigns', 'numerical', 'engine', 'simple', 'until', 'case', 'clicking', 'person', 'prob', 'randomly', 'design', 'provided']\n",
      "121      ['trousers', 'tf', 'much', 'idf', 'schemes', 'wearing', 'weightingthe']\n",
      "122      ['bellman', 'typically', 'little', 'control', 'having', '1940s', 'engines', 'learning', 'parent', 'richard', 'shared', 'controlled', 'human', 'comparing', 'normally', 'occurrence', 'specialised']\n",
      "123      ['either', 'accomplished', 'dividing', 'overriding', 'replacing']\n",
      "124      ['according', 'assign', 'observations', 'larger', 'patient', 'symptoms', 'group', 'frequentists']\n",
      "125      ['representing', 'text', 'algebraic']\n"
     ]
    }
   ],
   "source": [
    "clust_dict = {}\n",
    "for clus in clusters:\n",
    "    if len(clus) == 1:\n",
    "        if 0 not in clust_dict:\n",
    "            clust_dict[0] = clus\n",
    "        else:\n",
    "            clust_dict[0] += clus\n",
    "    else:\n",
    "        clust_dict[clusters.index(clus)] = clus\n",
    "for key, value in clust_dict.items():\n",
    "    print(key, '    ', value)"
   ]
  },
  {
   "cell_type": "code",
   "execution_count": 8,
   "metadata": {
    "collapsed": true
   },
   "outputs": [],
   "source": [
    "import os, sys, nltk, re\n",
    "\n",
    "# Open a file\n",
    "path = \"DATA-NLP\"\n",
    "dirs = os.listdir( path )\n",
    "\n"
   ]
  },
  {
   "cell_type": "code",
   "execution_count": 9,
   "metadata": {
    "collapsed": true
   },
   "outputs": [],
   "source": [
    "question_mapping = dict() # Mapping to question dictionary\n",
    " # Mapping to student as key and answer as value\n",
    "\n",
    "for file in dirs:\n",
    "    if file == '.DS_Store':\n",
    "            continue\n",
    "    path_to_file=path+'/'\n",
    "    file_name = file\n",
    "    split_name = file.split('_')\n",
    "    student_name = split_name[0]\n",
    "    question_number = split_name[1].split('.')[0]\n",
    "    if question_number not in question_mapping:\n",
    "        question_mapping[question_number] = {}\n",
    "    path_to_file += file_name\n",
    "    with open(path_to_file, 'r', encoding = 'latin1') as f:\n",
    "        mylist = f.read()\n",
    "        sent_tokenize_list = nltk.sent_tokenize(mylist)\n",
    "        temp = []\n",
    "        for i in sent_tokenize_list:\n",
    "            sent = i.lower()\n",
    "            sent = re.sub('[^A-Za-z0-9]+', ' ', sent)\n",
    "            temp.append(sent)\n",
    "        question_mapping[question_number][student_name] = temp\n",
    "        "
   ]
  },
  {
   "cell_type": "code",
   "execution_count": 10,
   "metadata": {},
   "outputs": [
    {
     "name": "stdout",
     "output_type": "stream",
     "text": [
      "taskc      {'g0pC': [[0, 0, 40, 40, 0, 32, 32, 32, 0, 0, 0, 44, 32, 69, 61, 28, 122], [32, 32, 0, 0, 32, 32, 53, 0, 85], [0, 0, 0, 46, 0, 0, 75, 0, 53, 85], [0, 0, 14, 64, 0, 0, 0, 0, 0, 32, 0, 0, 22, 0, 0, 0, 13, 14, 64, 8, 0, 43, 65, 32, 86, 39, 36], [14, 57, 55, 0, 32, 0, 39, 36, 0, 76, 0, 0, 78], [0, 32, 0, 33, 40, 0, 32, 8, 42, 8, 36, 0, 0, 46, 64, 55, 0, 32, 0, 28, 0, 43, 43, 0, 86, 32], [69, 0, 43, 0, 19, 8, 8, 0, 0, 0, 0], [69, 0, 64, 30, 14, 64, 71, 0, 43, 43, 32, 32, 0, 8, 8, 0, 0, 43, 0, 8, 8, 0, 0, 0, 14, 0, 64, 8, 66, 0, 46, 0, 22, 14], [0, 71]], 'g0pE': [[0, 84, 0, 63, 0, 36, 0, 36, 0, 27, 0, 40, 0, 42, 0, 0, 0, 40, 0, 40, 40, 0, 0, 0, 0, 38, 38, 62, 36, 22, 32, 32, 0, 32, 0, 59, 0, 84, 0, 40, 77, 0, 14, 0, 0, 71, 0, 73, 0, 36, 0, 0, 69, 0, 40, 0, 0, 32, 60]], 'g1pA': [[0, 0, 40, 40, 0, 0, 125, 40, 0, 0, 50, 125, 36, 0, 50, 30, 66, 0, 36, 0, 73, 13, 58, 73, 44], [43, 83, 86, 38, 118, 38, 38, 118, 0, 118, 118], [30, 0, 14, 40, 36, 0, 36, 0, 36], [32, 85, 85, 0, 85, 23], [0, 43, 0, 0, 0, 75, 75, 23, 23, 23, 0, 0, 32], [75, 61, 61, 31, 31, 65, 0, 73, 37, 65, 42, 42, 0, 23, 65], [33, 0, 0, 33, 42, 121, 0, 121, 121, 23, 75, 32, 75, 86], [0, 40, 8, 8, 0, 0, 57, 0, 118, 118, 0, 36, 0, 66, 33, 14, 0, 60, 0, 32, 43, 16, 0, 122, 0, 43, 32, 0, 32, 0, 32, 0, 36, 0, 69, 30, 0, 0, 0, 0, 36, 0, 0, 0, 63, 32, 32, 32, 0], [0, 0, 40, 40, 59, 0, 0, 0, 0, 42, 0, 23, 75, 32, 75, 40], [0, 14, 40, 0, 23, 85, 65, 0, 0, 32, 36, 0, 0, 0], [0, 23, 40, 0, 23, 85, 65, 0, 62, 0, 86, 0, 23, 0, 66, 57, 46, 86, 0]], 'g3pB': [[69, 0, 76, 43, 0, 69, 0, 0, 35, 0, 0, 0, 38, 38, 0, 46, 0, 27, 69, 22, 33, 0, 77, 53, 63, 16, 0], [0, 0, 40, 40, 0, 33, 0, 37, 0, 0, 0, 0, 0, 125, 40], [0, 0, 0, 40, 40, 32, 0, 36, 0, 0], [43, 14, 0, 32, 85, 85, 0, 85, 23, 32, 23, 0, 122, 44, 53, 66, 0], [23, 0, 23, 43, 0, 32, 0, 43, 0, 0, 0, 0, 75], [23, 23, 23, 0, 0, 32, 43, 43, 0, 75, 75], [0, 57, 24, 86, 32, 32, 0, 0, 66, 33, 0, 43, 43, 0, 0, 43, 32, 0, 36, 0, 0, 57, 84, 0, 0, 86, 43], [0, 0, 40, 40, 66, 0, 46, 62, 43, 46, 31, 71, 65, 65, 65, 36, 0, 65, 36, 0, 61, 0, 44, 46, 46, 83, 117, 117, 46, 8, 54, 0, 44, 43, 44, 78, 0, 36, 0, 61, 117, 64, 66, 61, 46, 83, 83, 117], [69, 0, 43, 0, 22, 69, 0, 0, 69, 22, 0, 64, 0, 0, 40, 40, 0, 37, 0, 0, 57, 0, 37, 35]], 'g0pB': [[0, 40, 40, 0, 0, 125, 40, 13, 125, 125, 36, 0, 0, 61, 50, 30, 0, 36, 0, 73, 36, 0, 13, 13, 73, 44], [43, 59, 66, 59, 0, 0, 118, 38, 38, 66], [0, 0, 0, 0, 38, 118, 38, 38, 118, 0, 118, 118], [32, 0, 36, 0, 0, 0, 32, 85, 85, 0, 85, 23], [23, 23, 23, 0, 0, 32, 43, 43, 0, 0, 0, 0, 75, 75], [75, 61, 61, 0, 71, 37, 65, 42, 42, 0, 23, 65, 31, 31, 65], [0, 119, 0, 23, 43, 22, 0, 119], [122, 44, 0, 44, 44, 44, 0, 44, 74], [23, 0, 44, 0, 64, 0, 8, 0, 44, 0, 43, 0, 0, 0, 0, 0, 43, 0, 44, 0, 0, 75, 0, 43, 0, 63, 44, 63, 0, 0], [33, 0, 0, 33, 42, 121, 0, 121, 121, 86, 67, 0, 0], [0, 0, 0, 40, 40, 0, 23, 85, 65, 0, 0, 32, 36, 0, 0, 0], [118, 118, 0, 36, 0, 66, 33, 8, 8, 57, 14, 0, 60, 0, 32, 43, 16, 0, 122, 0, 0, 63, 32, 32, 32, 0, 0, 0, 43, 32, 0, 32, 0, 32, 0, 36, 0, 69, 30, 0, 0, 0, 0, 36], [0, 0, 40, 40, 28, 0, 60, 33, 44, 74, 71, 117, 32, 44, 53, 117, 83, 83, 0, 83, 117, 117, 36, 30, 77, 71, 64, 61, 23, 75, 64, 8, 83, 0, 83, 83, 117, 0, 61, 0, 19, 0, 44, 83, 0, 0, 32, 0, 75, 0, 0, 0, 40, 84, 65, 36, 0, 65, 36, 50, 46, 31, 74, 65, 65, 71, 76, 0, 76, 43]], 'g2pA': [[0, 40, 40, 0, 23, 0, 40, 0, 0, 125, 19, 0, 125, 125, 36, 0, 50, 30, 0, 61, 0, 36, 0, 73, 36, 0, 73, 44], [0, 0, 0, 0, 38, 118, 38, 38, 118, 0, 118, 118], [43, 59, 119, 59, 0, 0, 118, 38, 38, 66], [32, 8, 8, 36, 0, 0], [60, 85, 48, 0, 61, 23], [23, 23, 84, 0, 0, 32, 0, 44, 43, 0, 0, 0, 0, 75, 75], [57, 61, 0, 0, 73, 37, 65, 50, 42, 0, 23, 65, 31, 31, 65], [121, 121, 86, 0, 33, 0, 0, 66, 69, 42, 121], [66, 71, 13], [0, 119, 0, 23, 43, 22, 0, 119], [122, 23, 0, 44, 53, 66, 0, 44], [23, 0, 44, 0, 64, 0, 8, 0, 44, 0, 43, 0, 0, 0, 0, 0, 43, 0, 44, 0, 0, 75, 0, 43, 0, 63, 44, 63, 0, 0], [0, 0, 40, 40, 28, 64], [44, 36, 0, 36, 65, 50, 0, 36, 31, 74, 65, 65, 71, 76, 0, 76, 43], [33, 44, 31, 0, 71, 117, 32, 44, 53, 117, 46, 83, 0, 83, 117, 117], [36, 30, 77, 71, 64, 61, 23, 75, 64, 8, 83, 0, 83, 83, 117], [], [0, 61, 0, 19, 44, 83, 0, 0, 32, 0, 75, 0, 0, 40, 84]], 'g0pD': [[0, 125, 40, 13, 125, 125, 36, 0, 50, 30, 0, 61, 0, 42, 0, 0, 24, 0, 40, 40], [0, 37, 0, 36, 0, 73, 73, 44, 0, 33, 0, 37], [0, 0, 40, 40, 59, 59, 0, 0, 0, 118, 38, 38, 66, 0, 0, 0, 0, 118, 38, 118, 118, 0, 38, 38], [32, 28, 84, 0, 0], [60, 85, 0, 71, 0, 85, 23], [0, 19, 0, 19, 23, 0, 66, 43, 22, 0, 119, 122, 44, 0, 123, 44, 44, 44, 0, 44, 74], [0, 43, 0, 0, 0, 0, 0, 43, 0, 44, 0, 0, 75, 23, 0, 0, 0, 44, 0, 0, 0, 8, 0, 44], [57, 0, 69, 30, 44, 0, 44, 74], [23, 23, 23, 0, 0, 32, 43, 43, 0, 0, 0, 0, 75, 75], [75, 61, 61, 0, 71, 37, 65, 42, 0, 23, 65, 31, 31, 65], [33, 0, 0, 66, 121, 0, 121, 121, 86]], 'orig': [[0, 40, 40, 0, 23, 0, 40, 0, 0, 125, 40, 13, 125, 125, 36, 0, 50, 30, 0, 61, 0, 36, 0, 73, 36, 0, 13, 13, 73, 44], [0, 0, 0, 0, 38, 118, 38, 38, 118, 0, 118, 118], [43, 59, 66, 59, 0, 0, 118, 38, 38, 66], [32, 0, 36, 0, 0], [32, 85, 85, 0, 85, 23], [23, 23, 23, 0, 0, 32, 43, 43, 0, 0, 0, 0, 75, 75], [75, 61, 61, 0, 71, 37, 65, 42, 42, 0, 23, 65, 31, 31, 65], [33, 0, 0, 33, 42, 121, 0, 121, 121, 86, 66, 0, 13, 71], [0, 119, 0, 23, 43, 22, 0, 119], [122, 44, 0, 44, 44, 44, 0, 44, 74], [23, 0, 44, 0, 64, 0, 8, 0, 44, 0, 43, 0, 0, 0, 0, 0, 43, 0, 44, 0, 0, 75, 0, 43, 0, 63, 44, 63, 0, 0], [0, 0, 40, 40, 28, 0, 60], [65, 36, 0, 65, 36, 50, 46, 31, 74, 65, 65, 71, 76, 0, 76, 43], [33, 44, 74, 71, 117, 32, 44, 53, 117, 83, 83, 0, 83, 117, 117], [36, 30, 77, 71, 64, 61, 23, 75, 64, 8, 83, 0, 83, 83, 117], [], [0, 61, 0, 19, 0, 44, 83, 0, 0, 32, 0, 75, 0, 0, 0, 40, 84]], 'g3pC': [[14, 0, 0, 40, 40, 13, 38, 38, 69, 27, 22, 0, 73, 0, 24, 36], [32, 0, 0, 0, 61, 66], [0, 39, 22, 0, 32, 0, 22, 8, 8, 57, 14, 0, 76, 66, 0, 55, 0, 43, 32, 78], [14, 0, 43, 32, 78, 64, 0, 40], [24, 57, 24, 0, 30, 66, 117], [122, 0, 36, 57, 46, 31, 50, 83, 65, 57, 24, 57, 8, 62, 76, 0, 60, 0], [0, 43, 0, 57, 14]], 'g2pB': [[0, 40, 40, 0, 0, 125, 40, 13, 125, 125, 36, 0, 36, 0, 73], [73, 66, 13, 0, 40, 40, 0, 13, 38, 0, 118, 0, 38], [22, 73, 24, 13, 0, 40, 69, 0, 118, 0, 42, 0, 24, 0, 118, 0, 36], [0, 62, 0, 40, 69, 60, 32, 0, 0, 0], [30, 32, 85, 23, 0, 0], [69, 28, 31, 61, 0, 0, 29, 0, 61, 73, 65, 13, 0, 40, 69, 30, 0, 66, 66, 0, 121, 121, 86], [0, 119, 28, 86, 22, 66, 0, 119, 0, 0, 23, 58], [23, 0, 66, 44, 53, 44, 0, 44, 74], [0, 43, 0, 63, 44, 0, 0, 75, 86, 0, 43, 23, 44, 0, 0, 13, 0, 44], [66, 62, 0, 40, 0, 66, 69, 0, 60, 35, 30, 14, 0, 46, 0, 0, 0, 61, 0, 0, 44, 0, 75, 44, 74, 8, 23, 13, 36, 31, 74, 65, 43, 64, 0, 66, 65, 36, 0, 39, 36, 69, 22, 0, 69, 73, 64, 8, 83, 23, 23, 75]], 'g0pA': [[0, 0, 40, 40, 42, 42, 23, 0, 40, 0, 0, 125, 40, 0, 0, 50, 125, 36, 0, 69, 0, 50, 30, 0, 61, 0, 36, 0, 73], [0, 0, 0, 0, 38, 38, 0, 59, 59, 0, 0, 0, 118, 38, 38, 66], [32, 0, 36, 0, 0, 0, 32, 85, 85, 0, 85, 23], [23, 23, 84, 0, 0, 32, 46, 43, 43, 0, 0, 0, 0, 75, 75], [57, 61, 61, 0, 73, 37, 65, 42, 42, 0, 23, 65, 31, 31, 65], [33, 0, 0, 33, 42, 0, 0, 42, 121, 121, 86], [0, 119, 0, 23, 43, 22, 0, 119, 64, 66, 44, 0, 44, 44, 44, 0, 44, 74], [23, 0, 44, 0, 64, 0, 8, 0, 44, 0, 43, 0, 0, 0, 0, 0, 43, 0, 44, 0, 0, 75, 19, 0, 0, 43, 0, 63, 44, 63, 0, 0], [0, 0, 40, 40, 28, 75], [65, 36, 0, 36, 50, 46, 31, 74, 65, 65], [33, 44, 74, 117, 32, 44, 0, 117, 0, 44, 83, 83, 0, 83, 117, 117], [36, 30, 77, 71, 64, 61, 23, 75, 57, 46, 8, 83, 0, 83, 83, 117], [0, 61, 0, 19, 0, 44, 83, 0, 0, 32, 0, 75, 0, 0, 0, 40, 84]], 'g4pC': [[0, 0, 40, 40, 0, 0, 36, 19, 0, 36, 0, 0, 44, 0, 84, 60, 0, 0, 50, 32, 32, 0, 0, 0, 46, 53, 63], [0, 61, 0, 57, 57, 0, 60, 0, 0, 64], [], [120, 27, 63, 44, 24, 0, 63, 0, 36], [], [75, 62, 36, 0, 0, 0, 71], [13, 0], [], [13, 32, 32, 0, 43, 0, 0, 32, 53], [], [14, 0, 38, 75, 62, 24, 75, 0, 75, 44], [], [116, 0, 63, 44], [124, 63, 32, 0, 0, 32, 53, 0, 63, 32, 0, 0, 32, 32]], 'g4pE': [[0, 119, 0, 23, 43, 22, 0, 119], [122, 44, 0, 44, 44, 44, 0, 44, 74], [23, 0, 44, 0, 64, 0, 8, 0, 44, 0, 43, 0, 0, 0, 0, 0, 43, 0, 44, 0, 0, 75, 32, 0, 36, 0, 0], [32, 85, 0, 85, 44], [23, 23, 23, 0, 0, 32, 43, 43, 0, 0, 0, 0, 75, 75], [118, 118, 0, 36, 0, 66, 33, 8, 8, 57, 14, 0, 60, 0, 32, 43, 16, 0, 122, 0, 0, 63, 32, 32, 32, 0, 0, 0, 43, 32, 0, 32, 0, 32, 0, 36, 0, 69, 30, 0, 0, 0, 0, 36], [69, 0, 64, 0, 0, 40, 40], [69, 69, 22, 0, 0, 0, 40, 40, 86, 0, 40, 40], [73, 69, 0, 40, 40, 0, 0, 40, 40, 0, 0, 0, 0, 23, 36, 8], [0, 0, 0, 0, 40, 40, 0, 73, 69, 0, 40, 40, 46, 46, 22, 69, 43, 32, 44], [0, 0, 0, 73, 69, 0, 40, 40, 0, 0, 46, 33, 0, 22, 24, 0, 23, 36, 24, 0]], 'g2pC': [[0, 0, 0, 40, 40, 36, 76, 0, 19, 0, 0, 44, 38, 38, 64, 19, 36, 0, 0, 53, 30, 66, 44, 0, 0, 24, 29, 46], [0, 0, 40, 40, 0, 0, 0, 38, 38, 0, 57, 24, 77, 36, 0, 0, 33, 33, 0, 24, 77, 36, 0, 0, 33, 32], [0, 60, 0, 36, 32, 32, 8, 8, 0, 0, 0, 65, 0, 44, 0, 0, 32, 32, 32, 23, 0, 0], [73, 8, 42, 8, 36, 0, 36, 22, 14, 0, 40, 40, 0, 57, 19, 32, 117, 0, 32, 0, 0, 0, 32, 0, 19, 0, 0, 0, 32, 0], [0, 32, 0, 0, 0, 32, 32, 0, 0, 14, 0, 65, 60, 19, 0, 0, 43, 0, 0, 43, 32, 0, 32, 0, 0, 0, 32, 0], [14, 62, 0, 57, 0, 123, 0, 76, 0, 0, 32, 0, 0, 0, 32, 0, 0, 0, 0, 0, 32, 0, 0, 0, 0, 0, 32, 0], [0, 117, 56, 71, 0, 0, 0, 0, 0, 0, 28, 0, 0, 0], [32, 0, 43, 65, 0, 66, 0, 8, 0, 32, 0, 0, 32]], 'g4pB': [[0, 0, 40, 40, 0, 23, 0, 40, 0, 0, 125, 40, 13, 125, 125, 36, 0, 50, 30, 0, 61, 0, 36, 0, 73, 36, 0, 73, 44], [0, 0, 0, 0, 38, 118, 38, 38, 118, 0, 118, 118], [0, 59, 0, 0, 0, 59, 64, 0, 0, 118, 38, 38, 66], [32, 0, 36, 0, 0], [32, 0, 60, 85, 85, 0, 85, 23], [23, 23, 0, 32, 43, 43, 0, 0, 0, 0, 46, 60, 0, 75], [0, 61, 86, 0, 71, 37, 65, 42, 42, 0, 23, 65, 31, 31], [33, 0, 0, 66, 60, 121, 0, 121, 121, 86], [0, 119, 0, 23, 0, 22, 0, 119], [122, 44, 0, 44, 44, 44, 0, 44, 74], [120, 0, 44, 0, 0, 8, 0, 44, 0, 43, 0, 0, 0, 0, 60, 0, 0, 43, 0, 44, 0, 0, 75], [0, 0, 0, 57, 0, 0, 0, 43, 32, 0, 36, 84, 0, 0, 43, 0, 0, 66, 43, 0, 0, 32, 0, 32, 0, 0, 74, 68, 117, 19, 58, 0, 68, 23, 0, 0, 32, 59, 0, 0, 32]], 'g1pD': [[43, 38, 38, 32, 32, 0, 63, 8, 8, 36, 0, 0, 24, 0, 40, 14, 84, 0, 42, 0, 0, 40, 40], [38, 38, 73, 0, 42, 36, 0, 36, 0, 0, 69, 0, 40, 37, 0, 46, 0, 0, 30, 0, 32, 36, 0, 55, 86, 36], [0, 39, 36, 0, 0, 0, 36, 30, 86, 32, 32, 65, 0, 86, 0, 44, 0, 60], [69, 0, 0, 0, 8, 8, 0, 0, 0, 39, 36, 0, 66, 0, 35, 13, 0, 0, 40, 40, 0, 0, 43, 19, 0, 43, 32, 0, 39, 36, 0, 43, 32, 0]], 'g4pD': [[0, 0, 40, 40, 0, 36, 24, 19, 0, 38, 0, 0, 8, 0, 36, 0, 36], [0, 23, 86, 0, 0, 0, 0, 0, 40, 35], [44, 0, 60, 0, 44, 0, 50, 118, 0, 0, 0, 0, 125], [23, 86, 62, 0, 24, 117, 13, 0, 65, 60], [0, 65, 0, 38, 0, 68, 38, 38, 66], [14, 43, 22], [32, 0, 33, 22, 0, 63, 43, 0, 32, 0, 46, 46, 22, 32, 63], [0, 60, 0, 0, 0, 0, 66, 60, 53, 0, 84, 0, 32, 60, 60], [14, 8, 8, 66, 57, 0, 43, 0, 53, 84, 0, 46, 66, 24], [23, 75, 14, 66, 86, 24, 57, 0, 23, 23, 0, 32], [0, 49, 23, 23, 0, 32, 0, 49, 0, 0, 0, 0, 86, 0, 0, 32], [0, 27, 44, 0, 65, 36], [14, 66, 49, 0, 44, 0, 84, 49, 64, 29, 121], [23, 75, 14, 66, 0, 0, 50, 53, 0, 84, 0, 46, 64, 0, 44, 0, 83], [23, 75, 0, 19, 0, 71, 0, 0, 75], [0, 0, 0, 66, 0]], 'g2pE': [[38, 62, 0, 0, 17, 0, 13, 36, 13, 38, 43, 36, 0, 13, 54, 36, 0, 69, 0, 0, 0, 0, 0, 119, 119, 22], [62, 0, 69, 22, 17, 17, 118, 17, 38, 17, 38, 118, 63, 0], [69, 0, 0, 0, 0, 0, 44, 60, 38, 32, 38, 38, 38, 0, 125, 38, 64, 32, 42, 28, 43, 0, 16, 0], [38, 38, 73, 0, 0, 0, 66, 28, 31, 42, 38], [57, 0, 76, 66, 62, 73, 0, 64, 0, 0, 22, 36]], 'g3pA': [[0, 40, 40, 0, 23, 0, 40, 0, 0, 0, 42, 42, 0, 0, 125, 40, 13, 125, 30, 0, 0, 0, 13, 125, 36, 0, 36, 0, 73, 13, 13, 73, 44], [0, 0, 0, 0, 38, 38, 0, 118, 118, 0, 118, 118, 0, 59, 59, 0, 0, 0, 118, 38, 38, 66], [32, 0, 36, 0, 0, 30, 32, 85, 0, 85, 23], [23, 23, 23, 0, 0, 32, 0, 43, 57, 8, 75, 75, 0, 0, 0], [57, 61, 61, 0, 71, 37, 65, 23, 65, 31, 31, 65, 33, 0, 0, 33, 42, 121, 0, 121, 121, 86], [0, 19, 0, 23, 0, 66, 43, 22, 0, 119], [122, 44, 0, 44, 44, 44, 0, 50, 64, 44, 74], [23, 0, 44, 0, 64, 0, 0, 44, 0, 43, 0, 0, 0, 0, 0, 0, 43, 0, 63, 44, 0, 0], [118, 13, 36, 0, 66, 33, 8, 8, 57, 14, 24, 0, 60, 0, 32, 43, 16, 0, 122, 0, 0, 63, 32, 32, 32, 0, 0, 0, 43, 32, 0, 32, 0, 32, 0, 36, 0, 69, 0, 0, 0, 36], [66, 0, 0, 0, 57, 0, 43, 0, 0, 43, 32, 0, 36, 84, 0, 0, 43], [75, 43, 13, 0, 43, 0, 0, 32, 0, 32, 0, 0, 0, 57, 74, 68, 117, 14, 58, 0, 32, 23, 46, 0, 0, 32, 66, 66], [66, 0, 0, 40, 40, 28], [65, 36, 0, 65, 36, 64, 0, 57, 74, 65, 65, 71, 76, 0, 76, 43, 33, 44, 74, 117, 71, 0, 32, 44, 53, 117, 83, 83, 0, 83, 117, 117, 77, 71, 36, 64, 61, 23, 75, 64, 8, 83, 0, 83, 83, 117, 0, 0, 61, 0, 0, 44, 83, 0, 0, 32, 0, 46, 36, 0, 0, 0, 40, 40]], 'g1pB': [[0, 125, 40, 13, 125, 125, 36, 0, 30, 0, 36, 0, 73, 0, 42, 0, 0, 40, 40], [0, 0, 0, 0, 38, 118, 118, 118, 118, 0, 38, 38], [0, 59, 59, 0, 0, 0, 118, 38, 38, 66], [57, 32, 0, 36, 0, 0, 32, 85, 85, 0, 85, 23], [23, 19, 23, 0, 0, 32, 28, 43, 0, 0, 0, 0, 75, 75], [22, 61, 0, 71, 37, 65, 0, 65, 31, 31, 65], [0, 66, 60, 0, 121, 121, 86], [22, 0, 119, 0, 119, 0, 23], [44, 44, 44, 0, 44, 74, 0, 0, 13, 44], [0, 43, 0, 0, 0, 23, 44, 0, 0, 0, 44, 0, 0, 43, 43, 0, 44, 60, 13, 66], [0, 14, 0, 60, 0, 0, 32, 43, 16, 0, 118, 118, 0, 36, 0, 66, 33, 8, 8, 64, 0, 122, 0, 0, 63, 32, 36, 72, 43, 0, 32, 0, 0, 43, 32, 32, 0, 36, 0, 72, 0, 0, 69, 60], [0, 0, 0, 0, 40, 40, 0, 84], [64, 0, 74, 65, 65, 65, 36, 0, 65, 36], [83, 117, 117, 46, 8, 23, 33, 44, 57, 46, 71, 117, 32, 44], [83, 83, 117, 46, 8, 57, 36, 77, 71, 64, 31, 61, 23, 75], [0, 40, 84, 24, 0, 0, 0, 0, 61, 19, 0, 44, 0, 0, 0, 32]]}\n"
     ]
    }
   ],
   "source": [
    "# Creating vector of sentences\n",
    "\n",
    "vector_dict = {}\n",
    "for key, value in question_mapping.items():\n",
    "    vector_dict[key] = {}\n",
    "    for student, answer in value.items():\n",
    "        vector_dict[key][student] = []\n",
    "        for sent in answer:\n",
    "            words = sent.split(' ')\n",
    "            temp_list = []\n",
    "            for w in words:\n",
    "                for cluster_key, cluster_value in clust_dict.items():\n",
    "                    if w in clust_dict[cluster_key]:\n",
    "                        temp_list.append( cluster_key)\n",
    "            vector_dict[key][student].append(temp_list)\n",
    "            \n",
    "for k, v in vector_dict.items():\n",
    "    print(k, '    ', v)\n",
    "    break\n"
   ]
  },
  {
   "cell_type": "code",
   "execution_count": 11,
   "metadata": {
    "collapsed": true
   },
   "outputs": [],
   "source": [
    "vector_name = {}\n",
    "rep = 0\n",
    "for key, value in vector_dict.items():\n",
    "    for student, vector in value.items():\n",
    "        for v in vector:\n",
    "            vector_name[tuple(v)] = rep\n",
    "            rep+=1\n",
    "        \n",
    "\n",
    "        "
   ]
  },
  {
   "cell_type": "code",
   "execution_count": 12,
   "metadata": {},
   "outputs": [
    {
     "name": "stdout",
     "output_type": "stream",
     "text": [
      "taskc      {'g0pC': [0, 1, 2, 3, 4, 5, 6, 7, 8], 'g0pE': [9], 'g1pA': [10, 11, 12, 76, 14, 15, 16, 17, 18, 19, 20], 'g3pB': [21, 22, 23, 24, 25, 26, 27, 28, 29], 'g0pB': [30, 74, 153, 108, 137, 78, 133, 161, 82, 39, 40, 138, 42], 'g2pA': [43, 153, 45, 46, 47, 48, 49, 50, 51, 133, 53, 82, 55, 56, 57, 86, 906, 60], 'g0pD': [61, 62, 63, 64, 65, 66, 67, 68, 137, 70, 71], 'orig': [72, 153, 74, 155, 76, 137, 78, 79, 133, 161, 82, 83, 84, 85, 86, 906, 118], 'g3pC': [89, 90, 91, 92, 93, 94, 95], 'g2pB': [96, 97, 98, 99, 100, 101, 102, 103, 104, 105], 'g0pA': [106, 107, 108, 109, 110, 111, 112, 113, 114, 115, 116, 117, 118], 'g4pC': [119, 120, 906, 122, 906, 124, 125, 906, 127, 906, 129, 906, 131, 132], 'g4pE': [133, 161, 135, 136, 137, 138, 139, 140, 141, 142, 143], 'g2pC': [144, 145, 146, 147, 148, 149, 150, 151], 'g4pB': [152, 153, 154, 155, 156, 157, 158, 159, 160, 161, 162, 163], 'g1pD': [164, 165, 166, 167], 'g4pD': [168, 169, 170, 171, 172, 173, 174, 175, 176, 177, 178, 179, 180, 181, 182, 183], 'g2pE': [184, 185, 186, 187, 188], 'g3pA': [189, 190, 191, 192, 193, 194, 195, 196, 197, 198, 199, 200, 201], 'g1pB': [202, 203, 204, 205, 206, 207, 208, 209, 210, 211, 212, 213, 214, 215, 216, 217]}\n",
      "5\n"
     ]
    }
   ],
   "source": [
    "# Creating answer vectors.\n",
    "\n",
    "pro_dict = {}\n",
    "for key, value in vector_dict.items():\n",
    "    pro_dict[key] = {}\n",
    "    for student, answer in value.items():\n",
    "        pro_dict[key][student] = []\n",
    "        for v in answer:\n",
    "            ans = tuple(v)\n",
    "            pro_dict[key][student].append(vector_name[ans])\n",
    "\n",
    "for key, value in pro_dict.items():\n",
    "    print(key, '    ', value)\n",
    "    break\n",
    "    \n",
    "print(len(pro_dict.keys()))"
   ]
  },
  {
   "cell_type": "code",
   "execution_count": 13,
   "metadata": {
    "collapsed": true
   },
   "outputs": [],
   "source": [
    "import pyfpgrowth\n",
    "inp = [\"taske\", \"taska\", \"taskb\", \"taskc\", \"taskd\"]"
   ]
  },
  {
   "cell_type": "code",
   "execution_count": 14,
   "metadata": {
    "collapsed": true
   },
   "outputs": [],
   "source": [
    "# performing FP_Growth Algorithm\n",
    "\n",
    "def fp_growth(transactions):\n",
    "    patterns = pyfpgrowth.find_frequent_patterns(transactions, 3)\n",
    "    frequent_list = []\n",
    "    for p in patterns:\n",
    "        if len(p) < 3:\n",
    "            continue\n",
    "        else:\n",
    "            frequent_list.append(list(p))\n",
    "    return frequent_list\n"
   ]
  },
  {
   "cell_type": "code",
   "execution_count": 15,
   "metadata": {
    "collapsed": true
   },
   "outputs": [],
   "source": [
    "def is_sub(sub, lst):\n",
    "    ln = len(sub)\n",
    "    for i in range(len(lst) - ln + 1):\n",
    "        if all(sub[j] == lst[i+j] for j in range(ln)):\n",
    "            return True\n",
    "    return False"
   ]
  },
  {
   "cell_type": "code",
   "execution_count": 16,
   "metadata": {
    "collapsed": true
   },
   "outputs": [],
   "source": [
    "def output(frequent_list):\n",
    "    output_dict= {}\n",
    "    for lst in frequent_list:\n",
    "        for k, v in pro_dict.items():\n",
    "            for name, vec in v.items():\n",
    "                if is_sub(lst,vec):\n",
    "                    if k not in output_dict:\n",
    "                        output_dict[k] = [name]\n",
    "                    else:\n",
    "                        output_dict[k].append(name)\n",
    "    return output_dict\n",
    "\n",
    "  "
   ]
  },
  {
   "cell_type": "code",
   "execution_count": 17,
   "metadata": {},
   "outputs": [
    {
     "name": "stdout",
     "output_type": "stream",
     "text": [
      "taske      {'g1pB', 'orig', 'g2pB', 'g0pE'}\n",
      "taska      {'g0pE', 'orig', 'g4pC', 'g2pC', 'g3pC'}\n",
      "taskd      {'g2pA', 'g4pC', 'g3pA'}\n"
     ]
    }
   ],
   "source": [
    "# Final output from our script.\n",
    "\n",
    "final= {}\n",
    "for task in inp:\n",
    "    transactions = []\n",
    "    for k, v in pro_dict.items():\n",
    "        if k == task:\n",
    "            for name, vec in v.items():\n",
    "                transactions.append(vec)\n",
    "            frequent_list = fp_growth(transactions)\n",
    "    output_dict = output(frequent_list)\n",
    "    for key, value in output_dict.items():\n",
    "        final[key] = set(value)\n",
    "        \n",
    "\n",
    "for i, v in final.items():\n",
    "    print(i, '    ', v)\n"
   ]
  },
  {
   "cell_type": "code",
   "execution_count": 18,
   "metadata": {
    "collapsed": true
   },
   "outputs": [],
   "source": [
    "import pandas as pd\n",
    "xl = pd.ExcelFile(\"corpus_final.xls\")"
   ]
  },
  {
   "cell_type": "code",
   "execution_count": 19,
   "metadata": {
    "collapsed": true
   },
   "outputs": [],
   "source": [
    "df = xl.parse(\"File list\")\n"
   ]
  },
  {
   "cell_type": "code",
   "execution_count": 20,
   "metadata": {
    "collapsed": true
   },
   "outputs": [],
   "source": [
    "c = df[['File','Category']]\n",
    "\n"
   ]
  },
  {
   "cell_type": "code",
   "execution_count": 21,
   "metadata": {},
   "outputs": [
    {
     "name": "stdout",
     "output_type": "stream",
     "text": [
      "Precision is :  0.9\n",
      "Accuracy is :  0.6359649122807017\n"
     ]
    }
   ],
   "source": [
    "# Evaluation\n",
    "\n",
    "tp = 0\n",
    "tn = 0\n",
    "fn = 0\n",
    "fp = 0\n",
    "for key, value in final.items():\n",
    "    for v in value:\n",
    "        ans = v+key+'.txt'\n",
    "        head = key\n",
    "        for index, row in c.iterrows():\n",
    "            if row['File'].split('_')[1].split('.')[0] == head:\n",
    "                if row['File'].split('_')[0] == v:\n",
    "                    if row['Category'] == 'cut' or row['Category'] == 'heavy':\n",
    "                        tp+=1\n",
    "                    else:\n",
    "                        fp+=1\n",
    "                else:\n",
    "                    if row['Category'] == 'cut' or row['Category'] == 'heavy':\n",
    "                        fn +=1\n",
    "                    else:\n",
    "                        tn+=1\n",
    "\n",
    "precision = float(tp/(tp+fp))                        \n",
    "print('Precision is : ', precision)\n",
    "recall = float(tp/(tp+fn))\n",
    "print('Accuracy is : ', (tp+tn)/(tp+fn+tn+fp))\n",
    "\n",
    "\n",
    "\n",
    "                "
   ]
  },
  {
   "cell_type": "code",
   "execution_count": null,
   "metadata": {
    "collapsed": true
   },
   "outputs": [],
   "source": []
  }
 ],
 "metadata": {
  "kernelspec": {
   "display_name": "Python 3",
   "language": "python",
   "name": "python3"
  },
  "language_info": {
   "codemirror_mode": {
    "name": "ipython",
    "version": 3
   },
   "file_extension": ".py",
   "mimetype": "text/x-python",
   "name": "python",
   "nbconvert_exporter": "python",
   "pygments_lexer": "ipython3",
   "version": "3.6.1"
  }
 },
 "nbformat": 4,
 "nbformat_minor": 2
}
